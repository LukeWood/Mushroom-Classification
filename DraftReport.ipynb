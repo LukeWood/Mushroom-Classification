{
 "cells": [
  {
   "cell_type": "markdown",
   "metadata": {
    "deletable": true,
    "editable": true
   },
   "source": [
    "# Analysis of the Properties of Mushrooms\n",
    "## Lab One: Exploring Table Data\n",
    "### Luke Wood, Justin Ledford, Traian Pop\n",
    "___"
   ]
  },
  {
   "cell_type": "markdown",
   "metadata": {
    "deletable": true,
    "editable": true
   },
   "source": [
    "## Introduction\n",
    "Mushrooms are a type of fungus found in many, if not all, parts of the world, that have been used throughout history in a variety of fields. Fungi are extracted for both their beneficial and harmful properties. There is an entire subsector of biology dedicated to studying how mushrooms develop and evolve. After searching, we decided to focus on a specific set found on the UCI website due to the variety of attributes in the report. \n",
    "\n",
    "___"
   ]
  },
  {
   "cell_type": "markdown",
   "metadata": {
    "deletable": true,
    "editable": true
   },
   "source": [
    "## Business Understanding"
   ]
  },
  {
   "cell_type": "markdown",
   "metadata": {
    "deletable": true,
    "editable": true
   },
   "source": [
    "### Data Background\n",
    "<p align=\"justify\">The data we have selected to study is the analysis of 23 different gilled mushroom species of the *Agaricus* and *Lepiota* Families. Originally, this was collected in order to discover a more efficient and accurate way to tell if a mushroom is edible or poisonous as part of a field guide. This information was found on the UCI, collected by The Audubon Society Field Guide to North American Mushrooms (1981), and donated by Jeff Schlimmer.\n",
    "<br><br>\n",
    "The Aubudon Society collects information on over 700 different species of North American Mushrooms and compiles them in a concise and easy to understand handbook. Every aspect of a mushroom is detailed as to make it as simple as possible for anyone to differentiate one in the field. \n",
    "<br><br>\n",
    "We believe that this information could be used to create an effective classifier.  All of the attributes, excluding poisonousness, are easy observable, and have a high correlation with whether or not a mushroom is poisonous or edible.  \n",
    "</p>\n"
   ]
  },
  {
   "cell_type": "markdown",
   "metadata": {
    "deletable": true,
    "editable": true
   },
   "source": [
    "### Purpose\n",
    "\n",
    "This kind of information is vital to many industries, ranging from tourism to healthcare. Having the knowledge of whether a mushroom is usable or not could save a starving hiker's life or speed up the process of developing medicines involving those materials. Although most poisonous mushrooms only cause minor symptoms such as vomiting and diarrhea, children or animals can develop symptoms such organ damage and, in some cases, death. The field is currently based on a lot of guesswork and tedious work, and even professional mushroomers can misidentify a specimen.\n",
    "\n",
    "We want to analyze this data in order to discern a mushrooms edibleness by a combination of its properties.  \n",
    "___\n"
   ]
  },
  {
   "cell_type": "markdown",
   "metadata": {
    "deletable": true,
    "editable": true
   },
   "source": [
    "## Data Understanding"
   ]
  },
  {
   "cell_type": "markdown",
   "metadata": {
    "collapsed": true,
    "deletable": true,
    "editable": true
   },
   "source": [
    "![Cross section](http://michaelagleatonportfolio2014.weebly.com/uploads/2/6/4/0/26406357/570473033.gif \"Cross section\")\n",
    "The picture shows a typical Blue Milk Mushrooms.This has been added to aid in seeing where each attribute lies on the mushroom itself.\n",
    "\n",
    "The following are our 23 categorical data attributes that will be examined in this report, grouped by the parts and functions of the mushroom:\n",
    "   \n",
    "  * <b>Cap Information</b>(*OHE*)  - Attributes relating to the mushroom cap, the part of the mushroom that protects the gills from harm\n",
    "     * <b>Cap Shape</b>(*OHE*) \n",
    "     * <b>Cap Surface</b>(*OHE*) \n",
    "     * <b>Cap Color</b>(*OHE*)\n",
    "  * <b>Odor</b>(*OHE*) - The aroma a mushroom gives off\n",
    "  * <b>Gill Information</b>(*OHE*) - Attributes relating to the mushroom gills, the part of the mushroom that releases spores\n",
    "      * <b>Gill Attachment</b>(*OHE*)\n",
    "      * <b>Gill Spacing</b>(*OHE*)\n",
    "      * <b>Gill Color</b>(*OHE*)\n",
    "      * <b>Gill Size</b>(*Binary*)\n",
    "  * <b>Stalk Information</b> - Attributes relating to the mushroom gills, the part of the mushroom that holds the cap up\n",
    "      * <b>Stalk Root</b>(*OHE*)\n",
    "      * <b>Stalk Shape</b>(*Binary*) \n",
    "      * <b>Stalk Surface Above Ring</b>(*OHE*)\n",
    "      * <b>Stalk Surface Below Ring</b>(*OHE*)\n",
    "      * <b>Stalk Color Above Ring</b>(*OHE*)\n",
    "      * <b>Stalk Color Below Ring</b>(*OHE*)\n",
    "  * <b>Veil Information</b>(*OHE*) - Attributes relating to the mushroom veil, the part of the mushroom that is used for protection of the spores\n",
    "      * <b>Veil Color</b>(*OHE*) \n",
    "      * <b>Veil Type</b>(*Binary*) \n",
    "  * <b>Ring Information</b>(*OHE*) - Attributes pertaining to a mushroom ring, a vestigial protective covering for the mushroom\n",
    "      * <b>Ring Number</b>(*OHE*) \n",
    "      * <b>Ring Type</b>(*OHE*)\n",
    "  * <b>Spore Print Color</b>(*OHE*) - Mushrooms use spore to reproduce, typically different colors among species\n",
    "  * <b>Population</b>(*OHE*) - How the mushroom grows in terms of clusters\n",
    "  * <b>Habitat</b>(*OHE*) - Where the mushroom typically grows in the wild\n",
    "  * <b>Bruises</b>(*Binary*) - Whether or not a mushroom has surface bruises\n",
    "  * <b>Poisonous</b>(*Binary*) - Attribute labeling if a mushroom is edible or poisonous\n",
    "   \n",
    "  (*OHE*) - One Hot Encoding\n",
    "     \n",
    "Although the above attributes can be assigned to specific data representations, we decided to not go along with it as our data set was not memory intensive enough to require it. Leaving them in their categorical representation also allowed the data to be read easier and understood.\n",
    "___"
   ]
  },
  {
   "cell_type": "markdown",
   "metadata": {
    "deletable": true,
    "editable": true
   },
   "source": [
    "## Data Quality"
   ]
  },
  {
   "cell_type": "markdown",
   "metadata": {
    "deletable": true,
    "editable": true
   },
   "source": [
    "### Loading & Preprocessing Data"
   ]
  },
  {
   "cell_type": "code",
   "execution_count": 1,
   "metadata": {
    "collapsed": false,
    "deletable": true,
    "editable": true
   },
   "outputs": [],
   "source": [
    "import pandas as pd\n",
    "import numpy as np\n",
    "import requests\n",
    "\n",
    "descriptors_url = 'https://raw.githubusercontent.com/LukeWoodSMU/Mushroom-Classification/master/raw_data/descriptors.txt'\n",
    "descriptors = requests.get(descriptors_url).text\n",
    "\n",
    "def get_attribute_dictionary():\n",
    "    # Loads from the descriptors file all attributes w/ mapping to their mappings\n",
    "    attr_dict = dict([(x.split(\":\")[0],dict([[y.split(\"=\")[1].strip(),y.split(\"=\")[0].strip()] for y in x.split(\":\")[1].split(\",\")])) for x in descriptors.splitlines()])\n",
    "    attr_dict.pop('stalk-root', None)\n",
    "    return attr_dict\n",
    "    \n",
    "\n",
    "def get_data_frame(remove_dups=False):\n",
    "    attribute_names = [x.split(\":\")[0] for x in descriptors.splitlines()]\n",
    "    df = pd.read_csv('https://raw.githubusercontent.com/LukeWoodSMU/Mushroom-Classification/master/raw_data/agaricus-lepiota.data.txt',names=attribute_names)\n",
    "\n",
    "    for col in df.columns:\n",
    "        df[col] = df[col].astype('category')\n",
    "\n",
    "    if(remove_dups):\n",
    "        df = df.drop_duplicates()\n",
    "    \n",
    "    df.drop('stalk-root', inplace=True, axis=1)\n",
    "    \n",
    "    return df\n",
    "\n"
   ]
  },
  {
   "cell_type": "markdown",
   "metadata": {
    "deletable": true,
    "editable": true
   },
   "source": [
    "Below are the first 5 instances of our data set."
   ]
  },
  {
   "cell_type": "code",
   "execution_count": 2,
   "metadata": {
    "collapsed": false,
    "deletable": true,
    "editable": true
   },
   "outputs": [
    {
     "data": {
      "text/html": [
       "<div>\n",
       "<table border=\"1\" class=\"dataframe\">\n",
       "  <thead>\n",
       "    <tr style=\"text-align: right;\">\n",
       "      <th></th>\n",
       "      <th>poisonous</th>\n",
       "      <th>cap-shape</th>\n",
       "      <th>cap-surface</th>\n",
       "      <th>cap-color</th>\n",
       "      <th>bruises</th>\n",
       "      <th>odor</th>\n",
       "      <th>gill-attachment</th>\n",
       "      <th>gill-spacing</th>\n",
       "      <th>gill-size</th>\n",
       "      <th>gill-color</th>\n",
       "      <th>...</th>\n",
       "      <th>stalk-surface-below-ring</th>\n",
       "      <th>stalk-color-above-ring</th>\n",
       "      <th>stalk-color-below-ring</th>\n",
       "      <th>veil-type</th>\n",
       "      <th>veil-color</th>\n",
       "      <th>ring-number</th>\n",
       "      <th>ring-type</th>\n",
       "      <th>spore-print-color</th>\n",
       "      <th>population</th>\n",
       "      <th>habitat</th>\n",
       "    </tr>\n",
       "  </thead>\n",
       "  <tbody>\n",
       "    <tr>\n",
       "      <th>0</th>\n",
       "      <td>p</td>\n",
       "      <td>x</td>\n",
       "      <td>s</td>\n",
       "      <td>n</td>\n",
       "      <td>t</td>\n",
       "      <td>p</td>\n",
       "      <td>f</td>\n",
       "      <td>c</td>\n",
       "      <td>n</td>\n",
       "      <td>k</td>\n",
       "      <td>...</td>\n",
       "      <td>s</td>\n",
       "      <td>w</td>\n",
       "      <td>w</td>\n",
       "      <td>p</td>\n",
       "      <td>w</td>\n",
       "      <td>o</td>\n",
       "      <td>p</td>\n",
       "      <td>k</td>\n",
       "      <td>s</td>\n",
       "      <td>u</td>\n",
       "    </tr>\n",
       "    <tr>\n",
       "      <th>1</th>\n",
       "      <td>e</td>\n",
       "      <td>x</td>\n",
       "      <td>s</td>\n",
       "      <td>y</td>\n",
       "      <td>t</td>\n",
       "      <td>a</td>\n",
       "      <td>f</td>\n",
       "      <td>c</td>\n",
       "      <td>b</td>\n",
       "      <td>k</td>\n",
       "      <td>...</td>\n",
       "      <td>s</td>\n",
       "      <td>w</td>\n",
       "      <td>w</td>\n",
       "      <td>p</td>\n",
       "      <td>w</td>\n",
       "      <td>o</td>\n",
       "      <td>p</td>\n",
       "      <td>n</td>\n",
       "      <td>n</td>\n",
       "      <td>g</td>\n",
       "    </tr>\n",
       "    <tr>\n",
       "      <th>2</th>\n",
       "      <td>e</td>\n",
       "      <td>b</td>\n",
       "      <td>s</td>\n",
       "      <td>w</td>\n",
       "      <td>t</td>\n",
       "      <td>l</td>\n",
       "      <td>f</td>\n",
       "      <td>c</td>\n",
       "      <td>b</td>\n",
       "      <td>n</td>\n",
       "      <td>...</td>\n",
       "      <td>s</td>\n",
       "      <td>w</td>\n",
       "      <td>w</td>\n",
       "      <td>p</td>\n",
       "      <td>w</td>\n",
       "      <td>o</td>\n",
       "      <td>p</td>\n",
       "      <td>n</td>\n",
       "      <td>n</td>\n",
       "      <td>m</td>\n",
       "    </tr>\n",
       "    <tr>\n",
       "      <th>3</th>\n",
       "      <td>p</td>\n",
       "      <td>x</td>\n",
       "      <td>y</td>\n",
       "      <td>w</td>\n",
       "      <td>t</td>\n",
       "      <td>p</td>\n",
       "      <td>f</td>\n",
       "      <td>c</td>\n",
       "      <td>n</td>\n",
       "      <td>n</td>\n",
       "      <td>...</td>\n",
       "      <td>s</td>\n",
       "      <td>w</td>\n",
       "      <td>w</td>\n",
       "      <td>p</td>\n",
       "      <td>w</td>\n",
       "      <td>o</td>\n",
       "      <td>p</td>\n",
       "      <td>k</td>\n",
       "      <td>s</td>\n",
       "      <td>u</td>\n",
       "    </tr>\n",
       "    <tr>\n",
       "      <th>4</th>\n",
       "      <td>e</td>\n",
       "      <td>x</td>\n",
       "      <td>s</td>\n",
       "      <td>g</td>\n",
       "      <td>f</td>\n",
       "      <td>n</td>\n",
       "      <td>f</td>\n",
       "      <td>w</td>\n",
       "      <td>b</td>\n",
       "      <td>k</td>\n",
       "      <td>...</td>\n",
       "      <td>s</td>\n",
       "      <td>w</td>\n",
       "      <td>w</td>\n",
       "      <td>p</td>\n",
       "      <td>w</td>\n",
       "      <td>o</td>\n",
       "      <td>e</td>\n",
       "      <td>n</td>\n",
       "      <td>a</td>\n",
       "      <td>g</td>\n",
       "    </tr>\n",
       "  </tbody>\n",
       "</table>\n",
       "<p>5 rows × 22 columns</p>\n",
       "</div>"
      ],
      "text/plain": [
       "  poisonous cap-shape cap-surface cap-color bruises odor gill-attachment  \\\n",
       "0         p         x           s         n       t    p               f   \n",
       "1         e         x           s         y       t    a               f   \n",
       "2         e         b           s         w       t    l               f   \n",
       "3         p         x           y         w       t    p               f   \n",
       "4         e         x           s         g       f    n               f   \n",
       "\n",
       "  gill-spacing gill-size gill-color   ...   stalk-surface-below-ring  \\\n",
       "0            c         n          k   ...                          s   \n",
       "1            c         b          k   ...                          s   \n",
       "2            c         b          n   ...                          s   \n",
       "3            c         n          n   ...                          s   \n",
       "4            w         b          k   ...                          s   \n",
       "\n",
       "  stalk-color-above-ring stalk-color-below-ring veil-type veil-color  \\\n",
       "0                      w                      w         p          w   \n",
       "1                      w                      w         p          w   \n",
       "2                      w                      w         p          w   \n",
       "3                      w                      w         p          w   \n",
       "4                      w                      w         p          w   \n",
       "\n",
       "  ring-number ring-type spore-print-color population habitat  \n",
       "0           o         p                 k          s       u  \n",
       "1           o         p                 n          n       g  \n",
       "2           o         p                 n          n       m  \n",
       "3           o         p                 k          s       u  \n",
       "4           o         e                 n          a       g  \n",
       "\n",
       "[5 rows x 22 columns]"
      ]
     },
     "execution_count": 2,
     "metadata": {},
     "output_type": "execute_result"
    }
   ],
   "source": [
    "get_data_frame().head()"
   ]
  },
  {
   "cell_type": "markdown",
   "metadata": {
    "deletable": true,
    "editable": true
   },
   "source": [
    "### Missing Values\n",
    "The data sets has 2480 missing values, all for one attribute, the stalk root. These missing values most likely exist because the stalk root is the only attribute that could not be visible unless the mushroom had been pulled out of the ground.\n",
    "\n",
    "To deal with these missing values we can either eliminate the instances with missing values or eliminate the column altogether since it would be difficult to impute the values with this data set. We have decided to eliminate the column because the attribute is not relevant in the case of determining the edibility of the mushroom without removing it from the ground, which was the main thing we were interested in analyzing."
   ]
  },
  {
   "cell_type": "code",
   "execution_count": 3,
   "metadata": {
    "collapsed": false,
    "deletable": true,
    "editable": true
   },
   "outputs": [
    {
     "data": {
      "text/plain": [
       "0    e\n",
       "1    c\n",
       "2    c\n",
       "3    e\n",
       "4    e\n",
       "Name: stalk-root, dtype: category\n",
       "Categories (5, object): [?, b, c, e, r]"
      ]
     },
     "execution_count": 3,
     "metadata": {},
     "output_type": "execute_result"
    }
   ],
   "source": [
    "def get_data_frame_with_miss(remove_dups=False):\n",
    "    attribute_names = [x.split(\":\")[0] for x in descriptors.splitlines()]\n",
    "    df = pd.read_csv('https://raw.githubusercontent.com/LukeWoodSMU/Mushroom-Classification/master/raw_data/agaricus-lepiota.data.txt',names=attribute_names)\n",
    "\n",
    "    for col in df.columns:\n",
    "        df[col] = df[col].astype('category')\n",
    "\n",
    "    if(remove_dups):\n",
    "        df = df.drop_duplicates()\n",
    "            \n",
    "    return df\n",
    "\n",
    "missing_val=get_data_frame_with_miss()\n",
    "missing_val['stalk-root'].head()"
   ]
  },
  {
   "cell_type": "markdown",
   "metadata": {
    "deletable": true,
    "editable": true
   },
   "source": [
    "### Single Value Column\n",
    "We also noticed that in the veil-type column, only one value was present.  This makes the column completely irrelevant.  This likely means that of the 23 species studied none of them had a veil-type of anything other than partial. \n",
    "This is interesting to see but not necessarily surprising, as even though the species come from two different attributes, they are still fairly similar biologically. "
   ]
  },
  {
   "cell_type": "code",
   "execution_count": 4,
   "metadata": {
    "collapsed": false,
    "deletable": true,
    "editable": true
   },
   "outputs": [
    {
     "data": {
      "text/plain": [
       "0    p\n",
       "1    p\n",
       "2    p\n",
       "3    p\n",
       "4    p\n",
       "Name: veil-type, dtype: category\n",
       "Categories (1, object): [p]"
      ]
     },
     "execution_count": 4,
     "metadata": {},
     "output_type": "execute_result"
    }
   ],
   "source": [
    "single_val=get_data_frame()\n",
    "single_val['veil-type'].head()\n"
   ]
  },
  {
   "cell_type": "markdown",
   "metadata": {
    "deletable": true,
    "editable": true
   },
   "source": [
    "### Repeat Data\n",
    "Due to there being 8124 rows and only 23 species of mushrooms, we assumed that there would inevitably be lot of identical rows.  Although generally removing duplicate data seems like something that needs to be done, we decided that situations would arise when the duplicate data would be useful.\n",
    "\n",
    "In order to achieve this dual functionality, we implementing our function that reads the DataFrame from a file, to have the option to remove duplicate values. \n",
    "\n",
    "Below is a short piece of code showing what percentage of the data is unique."
   ]
  },
  {
   "cell_type": "code",
   "execution_count": 5,
   "metadata": {
    "collapsed": false,
    "deletable": true,
    "editable": true
   },
   "outputs": [
    {
     "name": "stdout",
     "output_type": "stream",
     "text": [
      "Total duplicates:  0\n"
     ]
    }
   ],
   "source": [
    "df = get_data_frame()\n",
    "total_rows = len(df)\n",
    "\n",
    "df.drop_duplicates(inplace=True)\n",
    "no_dups = len(df)\n",
    "\n",
    "print (\"Total duplicates: \", (total_rows - no_dups))"
   ]
  },
  {
   "cell_type": "markdown",
   "metadata": {
    "deletable": true,
    "editable": true
   },
   "source": [
    "We were surprised to see that there were zero duplicates in the entire set, but once we sat down and analyzed the data more, we came up with a few possible conclusions.\n",
    "\n",
    "1. The original data collectors already had the data removed.\n",
    "2. Some of the missing data ended up being the duplicate data.\n",
    "3. There was never any duplicate data to begin with."
   ]
  },
  {
   "cell_type": "code",
   "execution_count": 6,
   "metadata": {
    "collapsed": false,
    "deletable": true,
    "editable": true
   },
   "outputs": [
    {
     "name": "stdout",
     "output_type": "stream",
     "text": [
      "4.206045380432561e-28\n"
     ]
    }
   ],
   "source": [
    "df = get_data_frame()\n",
    "p = 1\n",
    "for col in df:\n",
    "    p *= (1/len(df[col].cat.categories))\n",
    "print (p**2)"
   ]
  },
  {
   "cell_type": "markdown",
   "metadata": {
    "deletable": true,
    "editable": true
   },
   "source": [
    "The chances of not having a single duplicate specimen with 28 different attributes and each attribute having a different number of variables is 1.683e-26%. Due to this probability, we are inclined to go with conclusion #3 regarding the reason for zero duplicate data."
   ]
  },
  {
   "cell_type": "markdown",
   "metadata": {
    "deletable": true,
    "editable": true
   },
   "source": [
    "### Initial Analysis\n",
    "\n",
    "One of the first things we did was analyze the data by getting the ratios of an attribute value's occurrence in all the instances to that value's occurrence in the poisonous instances to determine which attributes had values that only or mostly occurred in poisonous mushrooms."
   ]
  },
  {
   "cell_type": "code",
   "execution_count": 7,
   "metadata": {
    "collapsed": false,
    "deletable": true,
    "editable": true
   },
   "outputs": [
    {
     "name": "stdout",
     "output_type": "stream",
     "text": [
      "{'creosote': 1.0, 'none': 0.034013605442176874, 'pungent': 1.0, 'musty': 1.0, 'fishy': 1.0, 'anise': 0.0, 'spicy': 1.0, 'foul': 1.0, 'almond': 0.0}\n"
     ]
    }
   ],
   "source": [
    "def get_hist_data():\n",
    "    attr_map = get_attribute_dictionary()\n",
    "    df = get_data_frame()\n",
    "\n",
    "    hist_data = dict([(atr,None) for atr in attr_map])\n",
    "    poison_hist_data = dict([(atr,None) for atr in attr_map])\n",
    "\n",
    "    for x in attr_map:\n",
    "        counts = dict([(attr_map[x][y],0) for y in attr_map[x]])\n",
    "        poison_counts = dict([(attr_map[x][y],0) for y in attr_map[x]])\n",
    "\n",
    "        for val, poison in zip(df[x],df[\"poisonous\"]):\n",
    "            counts[attr_map[x][val]]+=1\n",
    "            if(poison == \"p\"):\n",
    "                poison_counts[attr_map[x][val]]+=1\n",
    "        hist_data[x] = counts\n",
    "        poison_hist_data[x] = poison_counts\n",
    "\n",
    "    return hist_data, poison_hist_data\n",
    "\n",
    "#tf_tpf - Term Frquency to Poison Frequency\n",
    "def get_tf_tpf():\n",
    "    data,poison_data = get_hist_data()\n",
    "    tf_tpf = {}\n",
    "\n",
    "    for val in data:\n",
    "        tf_tpf[val] = dict([(x,poison_data[val][x]/data[val][x]) for x in data[val] if data[val][x] != 0])\n",
    "    return tf_tpf\n",
    "\n",
    "counts, poison_counts = get_hist_data()\n",
    "\n",
    "tf_tpf = {}\n",
    "for val in counts:\n",
    "    tf_tpf[val] = dict([(x,poison_counts[val][x]/counts[val][x]) for x in counts[val] if counts[val][x] != 0])\n",
    "\n",
    "print(tf_tpf[\"odor\"])"
   ]
  },
  {
   "cell_type": "markdown",
   "metadata": {
    "collapsed": true,
    "deletable": true,
    "editable": true
   },
   "source": [
    "As we can see, the correlations between certain values of the odor attribute and whether or not a mushroom is poisonous is 100%.  The only time that there is a question of whether or not a mushroom is poisonous is when the mushroom lacks an odor. From here we decided to start plotting the data to get a visual sense of the relationship between attributes.\n",
    "___"
   ]
  },
  {
   "cell_type": "markdown",
   "metadata": {
    "collapsed": true,
    "deletable": true,
    "editable": true
   },
   "source": [
    "## Visualizations"
   ]
  },
  {
   "cell_type": "markdown",
   "metadata": {
    "deletable": true,
    "editable": true
   },
   "source": [
    "We will be using Matplotlib's pylot and Seaborn to plot our data."
   ]
  },
  {
   "cell_type": "code",
   "execution_count": 8,
   "metadata": {
    "collapsed": false,
    "deletable": true,
    "editable": true
   },
   "outputs": [
    {
     "ename": "ImportError",
     "evalue": "No module named 'seaborn'",
     "output_type": "error",
     "traceback": [
      "\u001b[0;31m---------------------------------------------------------------------------\u001b[0m",
      "\u001b[0;31mImportError\u001b[0m                               Traceback (most recent call last)",
      "\u001b[0;32m<ipython-input-8-fe4d8762e66a>\u001b[0m in \u001b[0;36m<module>\u001b[0;34m()\u001b[0m\n\u001b[1;32m      1\u001b[0m \u001b[0;32mimport\u001b[0m \u001b[0mmatplotlib\u001b[0m\u001b[0;34m.\u001b[0m\u001b[0mpyplot\u001b[0m \u001b[0;32mas\u001b[0m \u001b[0mplt\u001b[0m\u001b[0;34m\u001b[0m\u001b[0m\n\u001b[0;32m----> 2\u001b[0;31m \u001b[0;32mimport\u001b[0m \u001b[0mseaborn\u001b[0m \u001b[0;32mas\u001b[0m \u001b[0msns\u001b[0m\u001b[0;34m\u001b[0m\u001b[0m\n\u001b[0m",
      "\u001b[0;31mImportError\u001b[0m: No module named 'seaborn'"
     ]
    }
   ],
   "source": [
    "import matplotlib.pyplot as plt\n",
    "import seaborn as sns"
   ]
  },
  {
   "cell_type": "markdown",
   "metadata": {
    "deletable": true,
    "editable": true
   },
   "source": [
    "### Comparative bar charts\n",
    "\n",
    "In order to get a glimpse of what specific attribute values could be used to determine if a mushroom was edible or poisonous we generated some bar charts to compare the attribute values by poisonous and edible mushrooms.\n",
    "\n",
    "Since most relationships between categorical variables are usually analyzed by looking at the frequencies of those variables we have implemented a function that can be used to collect the frequencies of each attribute value for two attributes."
   ]
  },
  {
   "cell_type": "code",
   "execution_count": null,
   "metadata": {
    "collapsed": false,
    "deletable": true,
    "editable": true
   },
   "outputs": [],
   "source": [
    "def attr_freqs(attr1, attr2):\n",
    "    df = get_data_frame()\n",
    "\n",
    "    labels1 = get_attribute_dictionary()[attr1]\n",
    "    labels2 = get_attribute_dictionary()[attr2]\n",
    "\n",
    "    data = []\n",
    "\n",
    "    for a in df[attr1].cat.categories:\n",
    "        column = df[attr2][df[attr1] == a].value_counts()\n",
    "        data.append(column)\n",
    "\n",
    "    observed = pd.concat(data, axis=1)\n",
    "    observed.columns = [labels1[a] for a in df[attr1].cat.categories]\n",
    "\n",
    "    return observed\n",
    "\n",
    "\n",
    "attr_freqs('odor', 'poisonous')"
   ]
  },
  {
   "cell_type": "markdown",
   "metadata": {
    "deletable": true,
    "editable": true
   },
   "source": [
    "Since we would like to compare attributes against the poisonous and edible classes, we have created a function to plot any attribute with side by side bar charts comparing each of the values of that attribute."
   ]
  },
  {
   "cell_type": "code",
   "execution_count": null,
   "metadata": {
    "collapsed": true,
    "deletable": true,
    "editable": true
   },
   "outputs": [],
   "source": [
    "def plot_comparative_data(attr, plot=True, save=False):\n",
    "    data = attr_freqs(attr, 'poisonous')\n",
    "\n",
    "    labels = get_attribute_dictionary()[attr]\n",
    "\n",
    "    index = np.arange(data.shape[1])\n",
    "    bar_width = 0.35\n",
    "    opacity=0.4\n",
    "\n",
    "    fig, ax = plt.subplots()\n",
    "\n",
    "    plt.bar(index, data.loc['e',:].values, bar_width, align='center',\n",
    "            color='b', label='edible', alpha=opacity)\n",
    "    plt.bar(index + bar_width, data.loc['p',:].values, bar_width,\n",
    "            align='center', color='r', label='poisonous', alpha=opacity)\n",
    "\n",
    "    plt.xlabel('Attributes')\n",
    "    plt.ylabel('Frequency')\n",
    "    plt.title('Frequency by attribute and edibility ({})'.format(attr))\n",
    "    plt.xticks(index + bar_width / 2, data.columns)\n",
    "\n",
    "    plt.legend()\n",
    "\n",
    "    plt.tight_layout()\n",
    "    plt.show()\n",
    "    plt.close()"
   ]
  },
  {
   "cell_type": "code",
   "execution_count": null,
   "metadata": {
    "collapsed": false,
    "deletable": true,
    "editable": true
   },
   "outputs": [],
   "source": [
    "plot_comparative_data('odor')"
   ]
  },
  {
   "cell_type": "markdown",
   "metadata": {
    "deletable": true,
    "editable": true
   },
   "source": [
    "From the plot we can see that any mushroom with a foul, spicy and fishy smell as almost certainly poisonous. No smell is almost always edible, but in some rare cases it can be poisonous.\n",
    "\n",
    "Let's take a look at spore print color."
   ]
  },
  {
   "cell_type": "code",
   "execution_count": null,
   "metadata": {
    "collapsed": false,
    "deletable": true,
    "editable": true
   },
   "outputs": [],
   "source": [
    "plot_comparative_data('spore-print-color')"
   ]
  },
  {
   "cell_type": "markdown",
   "metadata": {
    "deletable": true,
    "editable": true
   },
   "source": [
    "We can see that chocolate and white mushrooms are usually poisonous so it is best to avoid those. Black or brown are usually edible, but not always."
   ]
  },
  {
   "cell_type": "markdown",
   "metadata": {
    "deletable": true,
    "editable": true
   },
   "source": [
    "### Determining an attribute's association with edibility\n",
    "\n",
    "To determine association between attributes and edibility we used Pearson's chi-squared test on the frequency of attribute values and then ordered the attributes in descending order of the chi-squared statistic. The chi-squared test works by comparing the observed data to expected data (the null hypothesis which is an even distribution across each row and column) with the following equation,\n",
    "\n",
    "$$\n",
    "    \\chi^2 = \\sum^n_{i=1} \\frac{ (O_i - E_i)^2 }{ E_i }\n",
    "$$\n",
    "\n",
    "where $O$ is the observed data point and $E$ is the expected data point."
   ]
  },
  {
   "cell_type": "markdown",
   "metadata": {
    "deletable": true,
    "editable": true
   },
   "source": [
    "With the following function we can get a contingency table of the expected and observed values of any two attributes:"
   ]
  },
  {
   "cell_type": "code",
   "execution_count": null,
   "metadata": {
    "collapsed": true,
    "deletable": true,
    "editable": true
   },
   "outputs": [],
   "source": [
    "def expected_data(observed):\n",
    "    expected = np.zeros(observed.shape)\n",
    "\n",
    "    total = observed.sum().sum()\n",
    "    for j in [0, 1]:\n",
    "        for i, col_total in enumerate(observed.sum()):\n",
    "            row_total = observed.sum(axis=1)[j]\n",
    "            expected[j][i] = row_total*col_total/total\n",
    "\n",
    "    return pd.DataFrame(expected, index=observed.index,\n",
    "                        columns=observed.columns)"
   ]
  },
  {
   "cell_type": "code",
   "execution_count": null,
   "metadata": {
    "collapsed": false,
    "deletable": true,
    "editable": true
   },
   "outputs": [],
   "source": [
    "o = attr_freqs('odor', 'poisonous')\n",
    "o"
   ]
  },
  {
   "cell_type": "code",
   "execution_count": null,
   "metadata": {
    "collapsed": false,
    "deletable": true,
    "editable": true
   },
   "outputs": [],
   "source": [
    "expected_data(o)"
   ]
  },
  {
   "cell_type": "markdown",
   "metadata": {
    "deletable": true,
    "editable": true
   },
   "source": [
    "Using these two tables for each attribute we can collect the chi-squared test statistic for each, and then sort them in descending order to rank the attributes by association with being poisonous or edible."
   ]
  },
  {
   "cell_type": "code",
   "execution_count": null,
   "metadata": {
    "collapsed": false,
    "deletable": true,
    "editable": true
   },
   "outputs": [],
   "source": [
    "cat_names = get_attribute_dictionary().keys()\n",
    "\n",
    "chisqrs = []\n",
    "for cat in cat_names:\n",
    "    if cat != 'poisonous':\n",
    "        observed = attr_freqs(cat, 'poisonous')\n",
    "        expected = expected_data(observed)\n",
    "        chisqr = (((observed-expected)**2)/expected).sum().sum()\n",
    "        chisqrs.append((chisqr, cat))\n",
    "\n",
    "chisqrs = sorted(chisqrs)[::-1]\n",
    "chisqrs = chisqrs[:10]\n",
    "values = [d[0] for d in chisqrs]\n",
    "labels = [d[1].replace(\"-\", \"\\n\") for d in chisqrs]\n",
    "\n",
    "index = np.arange(len(chisqrs))\n",
    "bar_width = .35\n",
    "opacity=0.4\n",
    "\n",
    "plt.title(\"Attributes most associated with edibility\")\n",
    "plt.bar(index, values, bar_width, align='center')\n",
    "plt.xticks(index, labels)\n",
    "plt.ylabel(\"Chi-squared values\")\n",
    "plt.xlabel(\"Attributes\")\n",
    "plt.autoscale()\n",
    "plt.tight_layout()\n",
    "plt.show()"
   ]
  },
  {
   "cell_type": "markdown",
   "metadata": {
    "deletable": true,
    "editable": true
   },
   "source": [
    "As we can see from the plot, odor is the most associated attribute with edibility, followed by spore print color and gill color. These rankings seem to agree heavily with our comparative barcharts.\n",
    "\n",
    "While this use of the chi-squared test statistic may not be the traditional use of finding the p-value and accepting or rejecting the null hypothesis to determine independence, it still provided us with a metric to rank the attributes by their association of edibility."
   ]
  },
  {
   "cell_type": "markdown",
   "metadata": {
    "collapsed": true,
    "deletable": true,
    "editable": true
   },
   "source": [
    "### Scatterplot"
   ]
  },
  {
   "cell_type": "markdown",
   "metadata": {
    "collapsed": true,
    "deletable": true,
    "editable": true
   },
   "source": [
    "Next we decided to plot a scatterplot matrix of the top 5 most associated attributes with edibility. In order to plot categorical variables on a scatterplot we needed to add some jitter to the data. This was done by adding a random number between -0.167 and 0.167 to all the categorical codes."
   ]
  },
  {
   "cell_type": "code",
   "execution_count": null,
   "metadata": {
    "collapsed": false,
    "deletable": true,
    "editable": true
   },
   "outputs": [],
   "source": [
    "df = get_data_frame()\n",
    "for col in df:\n",
    "    if col in ['odor', 'spore-print-color', 'gill-color', 'ring-type',\n",
    "               'stalk-surface-above-ring']:\n",
    "        df[col] = df[col].cat.codes + (np.random.rand(len(df),) - .5)/3\n",
    "    elif col == 'poisonous':\n",
    "        df[col] = df[col].cat.codes\n",
    "    else:\n",
    "        del df[col]\n",
    "\n",
    "g = sns.pairplot(df, hue='poisonous')\n",
    "plt.autoscale()\n",
    "plt.tight_layout()\n",
    "plt.show()\n",
    "plt.close()"
   ]
  },
  {
   "cell_type": "markdown",
   "metadata": {
    "deletable": true,
    "editable": true
   },
   "source": [
    "From the scatter plots we can clearly see how values of certain variables are grouped between poisonous and edible. We can also see how combinations of two variable values strongly correlate to belonging to a poisonous or edible mushroom.\n",
    "For example a fibrous stalk surface above ring and an evanescent ring type are almost certainly edible, however a fibrous stalk surface ring and a pendant ring type are almost certainly poisonous.\n",
    "\n",
    "Because the values were converted to the categorical codes to plot, we have generated a legend for the values of each attribute."
   ]
  },
  {
   "cell_type": "code",
   "execution_count": null,
   "metadata": {
    "collapsed": false,
    "deletable": true,
    "editable": true
   },
   "outputs": [],
   "source": [
    "df = get_data_frame()\n",
    "attr = get_attribute_dictionary()\n",
    "labels = {}\n",
    "for col in df:\n",
    "        if col in ['odor', 'spore-print-color', 'gill-color', 'ring-type',\n",
    "                               'stalk-surface-above-ring', 'poisonous']:\n",
    "            labels[col] = [attr[col][c] for c in df[col].cat.categories] + \\\n",
    "                          (12-len(df[col].cat.categories))*[\" \"]\n",
    "pd.DataFrame(labels)"
   ]
  },
  {
   "cell_type": "markdown",
   "metadata": {
    "collapsed": true,
    "deletable": true,
    "editable": true
   },
   "source": [
    "### Heatmaps\n",
    "To get a better sense of the correlations we wanted to create a heat map that showed the correlation between all possible attributes."
   ]
  },
  {
   "cell_type": "code",
   "execution_count": null,
   "metadata": {
    "collapsed": false,
    "deletable": true,
    "editable": true
   },
   "outputs": [],
   "source": [
    "\n",
    "df = get_data_frame()\n",
    "attr_dict = get_attribute_dictionary()\n",
    "\n",
    "data = []\n",
    "for attribute in attr_dict:\n",
    "    for sub_attr in attr_dict[attribute]:\n",
    "        data.append((attr_dict[attribute][sub_attr],[1 if x==sub_attr else 0 for x in df[attribute]]))\n",
    "\n",
    "        l = [x[1] for x in data]\n",
    "    \n",
    "corr_df = pd.DataFrame(np.array(l).transpose(), columns=[x[0] for x in data]).corr().dropna(thresh=1).drop(\"distant\")\n",
    "\n",
    "\n",
    "fig, ax = plt.subplots(figsize=(28,28))\n",
    "\n",
    "sns.heatmap(corr_df)\n",
    "fig.autofmt_xdate()\n",
    "\n",
    "locs, labels = plt.yticks()\n",
    "plt.setp(labels,rotation=30)\n",
    "\n",
    "locs, labels = plt.xticks()\n",
    "plt.setp(labels,rotation=60)\n",
    "\n",
    "\n",
    "plt.show()\n"
   ]
  },
  {
   "cell_type": "markdown",
   "metadata": {
    "deletable": true,
    "editable": true
   },
   "source": [
    "As you can see, there are way too many attributes to look at this chart alone. "
   ]
  },
  {
   "cell_type": "markdown",
   "metadata": {
    "deletable": true,
    "editable": true
   },
   "source": [
    "To see some of the more strongly correlated attributes more closely, we decide to create some heat maps displaying the relative frequencies by the column for any two variables. Below is our function to plot these heat maps."
   ]
  },
  {
   "cell_type": "code",
   "execution_count": null,
   "metadata": {
    "collapsed": true,
    "deletable": true,
    "editable": true
   },
   "outputs": [],
   "source": [
    "def heatmap(attr1, attr2,annot=True):\n",
    "    df = get_data_frame()\n",
    "    labels1 = get_attribute_dictionary()[attr1]\n",
    "    labels2 = get_attribute_dictionary()[attr2]\n",
    "\n",
    "    data = []\n",
    "\n",
    "    for a in df[attr1].cat.categories:\n",
    "        column = df[attr2][df[attr1] == a].value_counts()/len(df[df[attr1]==a])\n",
    "        data.append(column)\n",
    "\n",
    "    d = pd.concat(data, axis=1)\n",
    "    d.columns = [labels1[a] for a in df[attr1].cat.categories]\n",
    "\n",
    "    ticks = [labels2[a] for a in d.index]\n",
    "\n",
    "    sns.heatmap(d, annot=annot, yticklabels=ticks, fmt='.2f')\n",
    "\n",
    "\n",
    "    plt.title(\"{} and {}\".format(attr1, attr2))\n",
    "    plt.yticks(rotation=0)\n",
    "    plt.ylabel(attr2)\n",
    "    plt.xlabel(attr1)\n",
    "    plt.tight_layout()\n",
    "    plt.show()\n",
    "    plt.clf()"
   ]
  },
  {
   "cell_type": "code",
   "execution_count": null,
   "metadata": {
    "collapsed": false,
    "deletable": true,
    "editable": true
   },
   "outputs": [],
   "source": [
    "heatmap('gill-attachment', 'veil-color')"
   ]
  },
  {
   "cell_type": "code",
   "execution_count": null,
   "metadata": {
    "collapsed": false,
    "deletable": true,
    "editable": true
   },
   "outputs": [],
   "source": [
    "heatmap('odor', 'poisonous')"
   ]
  },
  {
   "cell_type": "markdown",
   "metadata": {
    "deletable": true,
    "editable": true
   },
   "source": [
    "We found that odor and whether or not the mushroom was poisonous to be a highly correlated feature, with some odors having a 100% relative frequency with being poisonous."
   ]
  },
  {
   "cell_type": "code",
   "execution_count": null,
   "metadata": {
    "collapsed": false,
    "deletable": true,
    "editable": true
   },
   "outputs": [],
   "source": [
    "heatmap('stalk-shape', 'stalk-root')"
   ]
  },
  {
   "cell_type": "markdown",
   "metadata": {
    "deletable": true,
    "editable": true
   },
   "source": [
    "We ended up dropping the stalk-root attribute due to 25% of the rows missing a stalk-root value.  We thought the heat map was still interesting enough to include it anyways. It shows how the stalk root values could have been imputed by looking at the stalk shape had we decided that the stalk root variable was important enough to keep. "
   ]
  },
  {
   "cell_type": "code",
   "execution_count": 10,
   "metadata": {
    "collapsed": false,
    "deletable": true,
    "editable": true
   },
   "outputs": [
    {
     "data": {
      "text/html": [
       "\n",
       "        <iframe\n",
       "            width=\"1000\"\n",
       "            height=\"0\"\n",
       "            src=\"./visualizations/edge-chart/index.html\"\n",
       "            frameborder=\"0\"\n",
       "            allowfullscreen\n",
       "        ></iframe>\n",
       "        "
      ],
      "text/plain": [
       "<IPython.lib.display.IFrame at 0x115d2bb38>"
      ]
     },
     "execution_count": 10,
     "metadata": {},
     "output_type": "execute_result"
    }
   ],
   "source": [
    "from IPython.display import IFrame\n",
    "#Visualization forked from: https://bl.ocks.org/mbostock/1044242\n",
    "IFrame(\"./visualizations/edge-chart/index.html\",width=1000,height=0)"
   ]
  },
  {
   "cell_type": "markdown",
   "metadata": {
    "deletable": true,
    "editable": true
   },
   "source": [
    "This hierarchical edge bundling graph represents how often each category matches with another one. If two attribute values are in the same row at least X amount of times they appear in the graph.  The bar on top of the graph can be altered in order to show only connections meeting a certain number of minimum common connections.\n",
    "\n",
    "As you can see, when we move the bar all the way to the right, we see that the most common combination of attribute values is veil-type partial, veil-color white and gill-attachment free. This observation matches up with our previous analysis.   \n",
    "\n",
    "However, when moving the bar to the complete opposite side, the graph starts showing more about the data that isn't there. For example, there are attribute values that have zero lines connecting from them at 25 minimum, thus showing how minor of a percentage they each are. These attribute value also seem to match up with the other conclusions we derived."
   ]
  },
  {
   "cell_type": "markdown",
   "metadata": {
    "collapsed": true,
    "deletable": true,
    "editable": true
   },
   "source": [
    "## Citations\n",
    "Data set: https://archive.ics.uci.edu/ml/datasets/Mushroom  \n",
    "For picture 1: http://michaelagleatonportfolio2014.weebly.com/blue-milk-mushroom.html   \n",
    "Data Visualization Information: https://github.com/eclarson/MachineLearningNotebooks/blob/master/03.%20DataVisualization.ipynb   \n",
    "D3 Hierchial Edge Bundling: https://bl.ocks.org/mbostock/1044242"
   ]
  }
 ],
 "metadata": {
  "anaconda-cloud": {},
  "kernelspec": {
   "display_name": "Python [default]",
   "language": "python",
   "name": "python3"
  },
  "language_info": {
   "codemirror_mode": {
    "name": "ipython",
    "version": 3
   },
   "file_extension": ".py",
   "mimetype": "text/x-python",
   "name": "python",
   "nbconvert_exporter": "python",
   "pygments_lexer": "ipython3",
   "version": "3.5.2"
  }
 },
 "nbformat": 4,
 "nbformat_minor": 2
}
