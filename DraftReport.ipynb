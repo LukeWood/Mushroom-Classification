{
 "cells": [
  {
   "cell_type": "markdown",
   "metadata": {},
   "source": [
    "# Analysis of the Properties of Mushrooms\n",
    "## Lab One: Exploring Table Data\n",
    "### Luke Wood, Justin Ledford, Traian Pop\n",
    "___"
   ]
  },
  {
   "cell_type": "markdown",
   "metadata": {},
   "source": [
    "## Introduction\n",
    "<p align=\"justify\">\n",
    "Mushrooms are a type of fungus found in many, if not all, parts of the world, and has been used throughout history in a variety of fields. These fungi are extracted for both their beneficial and harmful properties, and such, they are in constant demand. There is an entire subsect of biology dedicated to studying how mushrooms develop and evolve, providing us with as much data as we could want. After searching, we decided to focus on a specific set found on the UCI website, due to the variety of attributes in the report. \n",
    "</p> \n",
    "___"
   ]
  },
  {
   "cell_type": "markdown",
   "metadata": {},
   "source": [
    "## Business Understanding"
   ]
  },
  {
   "cell_type": "markdown",
   "metadata": {},
   "source": [
    "### Data Background\n",
    "<p align=\"justify\">The data we have selected to study is the analysis of 23 different gilled mushroom species of the *Agaricus* and *Lepiota* Families. Originally, this was collected in order to discover a more efficient and accurate way to tell if a mushroom is edible or poisonous as part of a field guide. This information was found on the UCI, collected The Audubon Society Field Guide to North American Mushrooms (1981), and donated by Jeff Schlimmer.\n",
    "<br><br>\n",
    "The Aubudon Society collects information on over 700 different species of North American Mushrooms and compiles them in a concise and easy to understand handbook. Every aspect of a mushroom is detailed as to make it as simple as possible for anyone to differentiate one in the field. </p>\n"
   ]
  },
  {
   "cell_type": "markdown",
   "metadata": {},
   "source": [
    "### Purpose\n",
    "This kind of information is vital to many industries, ranging from tourism to healthcare. Having the knowledge of whether a mushroom is usable or not could save a starving hiker's life or speed up the process of developing medicines involving those materials. Although most poisonous mushrooms only cause minor symptoms such as vomiting and diarrhea, children or animals can develop symptoms such organ damage and, in some cases, death. The field is currently based on a lot of guesswork and tedious work, and even professional mushroomers can misidentify a specimen.\n",
    "\n",
    "We want to analyze this data in order to discern a mushrooms edibleness by a combination of its properties.  \n",
    "___\n"
   ]
  },
  {
   "cell_type": "markdown",
   "metadata": {},
   "source": [
    "## Data Understanding\n"
   ]
  },
  {
   "cell_type": "code",
   "execution_count": 19,
   "metadata": {
    "collapsed": false
   },
   "outputs": [
    {
     "ename": "SyntaxError",
     "evalue": "invalid syntax (<ipython-input-19-4369cfcb1d16>, line 7)",
     "output_type": "error",
     "traceback": [
      "\u001b[0;36m  File \u001b[0;32m\"<ipython-input-19-4369cfcb1d16>\"\u001b[0;36m, line \u001b[0;32m7\u001b[0m\n\u001b[0;31m    print r.text.split('\\n')\u001b[0m\n\u001b[0m          ^\u001b[0m\n\u001b[0;31mSyntaxError\u001b[0m\u001b[0;31m:\u001b[0m invalid syntax\n"
     ]
    }
   ],
   "source": [
    "import pandas as pd\n",
    "import numpy as np\n",
    "import requests\n",
    "import os\n",
    "\n",
    "r = requests.get('https://raw.githubusercontent.com/LukeWoodSMU/Mushroom-Classification/master/raw_data/descriptors.txt')\n",
    "\n",
    "\n",
    "def get_attribute_dictionary():\n",
    "    # Loads from the descriptors file all attributes w/ mapping to their mappings\n",
    "    attr_dict = dict([(x.split(\":\")[0],dict([[y.split(\"=\")[1].strip(),y.split(\"=\")[0].strip()] for y in x.split(\":\")[1].split(\",\")])) for x in file.split('\\n')])\n",
    "    return attr_dict\n",
    "\n",
    "def get_data_frame(remove_dups=False):\n",
    "    attribute_names = [x.split(\":\")[0] for x in file]\n",
    "    df = pd.read_csv('https://raw.githubusercontent.com/LukeWoodSMU/Mushroom-Classification/master/raw_data/agaricus-lepiota.data.txt',names=attribute_names)\n",
    "\n",
    "    for col in df.columns:\n",
    "        df[col] = df[col].astype('category')\n",
    "\n",
    "    if(remove_dups):\n",
    "        df = df.drop_duplicates()\n",
    "    return df\n",
    "\n",
    "print (get_attribute_dictionary())\n",
    "print (get_data_frame())\n"
   ]
  },
  {
   "cell_type": "markdown",
   "metadata": {
    "collapsed": true
   },
   "source": [
    "[15 points] Load the dataset and appropriately define data types. What data type should be used to represent each data attribute? Discuss the attributes collected in the dataset. For datasets with a large number of attributes, only discuss a subset of relevant attributes.  \n",
    "\n",
    "The following are our 22 categorical data attributes, split by data representation:\n",
    "* One Hot Encoding\n",
    "  1. Cap Shape\n",
    "  2. Cap Surface\n",
    "  3. Cap Color\n",
    "  4. Odor\n",
    "  5. Gill Attachment\n",
    "  6. Gill Spacing\n",
    "  7. Gill Color\n",
    "  8. Stalk Root\n",
    "  9. Stalk Surface Above Ring\n",
    "  10. Stalk Surface Below Ring\n",
    "  11. Stalk Color Above Ring\n",
    "  12. Stalk Color Below Ring\n",
    "  13. Veil Color\n",
    "  14. Ring Number\n",
    "  15. Ring Type\n",
    "  16. Spore Print Color\n",
    "  17. Population\n",
    "  18. Habitat\n",
    "* Binary\n",
    "  1. Bruises\n",
    "  2. Gill Size\n",
    "  3. Stalk Shape\n",
    "  4. Veil Type\n",
    "\n",
    "Although some of our attributes can be represented by themselves, such as Population, Habitat, Odor, and Spore Print color, the rest of them become fairly specific, so we created a subset named Physcal Attributes to group them all under. "
   ]
  },
  {
   "cell_type": "markdown",
   "metadata": {},
   "source": [
    "\n",
    "\n",
    "\n",
    "\n"
   ]
  },
  {
   "cell_type": "markdown",
   "metadata": {},
   "source": [
    "[15 points] Verify data quality: Explain any missing values or duplicate data. Are those mistakes? Why do these quality issues exist in the data? How do you deal with these problems? Give justifications for your methods (elimination or imputation).  \n",
    "\n",
    "# Data Quality\n",
    "\n",
    "## Missing Values\n",
    "The data sets has 2480 missing values, all for one attribute, the stalk root. These missing values most likely exist because the stalk root is the only attribute that could not be visible unless the mushroom had been pulled out of the ground.\n",
    "\n",
    "To deal with these missing values we can either eliminate the instances with missing values or eliminate the column altogether since it would be difficult to impute the values with this data set. Eliminating the column can be justified because the attribute is not relevant in the case of determining the edibility of the mushroom without removing it from the ground.\n",
    "\n",
    "## Single Value Column\n",
    "We also noticed that in the veil-type column, only one value was present.  This makes the column completely irrelevant.  This likely means that of the 20 species studied none of them had a veil-type of anything other than partial.\n",
    "\n",
    "## Repeat Data\n",
    "Due to there being 8124 rows and only 23 species of mushrooms, there will inevitably be lot of identical rows.  However, we decided that depending on what the intended use of the data is it could be beneficial to leave in the duplicate rows.\n",
    "\n",
    "When implementing our function to read the DataFrame from a file, we allowed the option to remove duplicate values in order to easily analyze the dataset with and without duplicates. \n",
    "\n",
    "Below is a short piece of code showing what percentage of the data is unique."
   ]
  },
  {
   "cell_type": "code",
   "execution_count": 10,
   "metadata": {
    "collapsed": false
   },
   "outputs": [
    {
     "data": {
      "text/plain": [
       "8124"
      ]
     },
     "execution_count": 10,
     "metadata": {},
     "output_type": "execute_result"
    }
   ],
   "source": [
    "from preprocessing.shroom_dealer import get_data_frame\n",
    "\n",
    "df = get_data_frame()\n",
    "total_rows = len(df)\n",
    "\n",
    "df.drop_duplicates(inplace=True)\n",
    "no_dups = len(df)"
   ]
  },
  {
   "cell_type": "markdown",
   "metadata": {},
   "source": [
    "# Smell\n",
    "We noticed that one of the most highly correlated features was odor."
   ]
  },
  {
   "cell_type": "code",
   "execution_count": 2,
   "metadata": {
    "collapsed": false
   },
   "outputs": [
    {
     "name": "stdout",
     "output_type": "stream",
     "text": [
      "{'none': 0.034013605442176874, 'anise': 0.0, 'almond': 0.0, 'fishy': 1.0, 'spicy': 1.0, 'musty': 1.0, 'pungent': 1.0, 'foul': 1.0, 'creosote': 1.0}\n"
     ]
    }
   ],
   "source": [
    "from analysis import histogram_analysis\n",
    "counts, poison_counts = histogram_analysis.get_hist_data()\n",
    "\n",
    "tf_tpf = {}\n",
    "for val in counts:\n",
    "    tf_tpf[val] = dict([(x,poison_counts[val][x]/counts[val][x]) for x in counts[val] if counts[val][x] != 0])\n",
    "\n",
    "print(tf_tpf[\"odor\"])"
   ]
  },
  {
   "cell_type": "markdown",
   "metadata": {
    "collapsed": true
   },
   "source": [
    "As we can see, the correlations between smell and whether or not a mushroom is poisonous is 100%.  The only time that there is a question of whether or not a mushroom is poisonous is when the mushroom lacks a smell."
   ]
  },
  {
   "cell_type": "markdown",
   "metadata": {
    "collapsed": false
   },
   "source": [
    "\n"
   ]
  },
  {
   "cell_type": "code",
   "execution_count": null,
   "metadata": {
    "collapsed": true
   },
   "outputs": [],
   "source": []
  },
  {
   "cell_type": "code",
   "execution_count": null,
   "metadata": {
    "collapsed": true
   },
   "outputs": [],
   "source": []
  },
  {
   "cell_type": "code",
   "execution_count": null,
   "metadata": {
    "collapsed": true
   },
   "outputs": [],
   "source": []
  },
  {
   "cell_type": "markdown",
   "metadata": {
    "collapsed": true
   },
   "source": [
    "# Visualizations"
   ]
  },
  {
   "cell_type": "markdown",
   "metadata": {},
   "source": [
    "## Comparative barcharts\n",
    "\n",
    "In order to get a glimpse of what specific attribute values could be used to determine if a mushroom was edible or poisonous we generated some barcharts to compare the attribute values by poisonous and edible mushrooms.\n",
    "\n",
    "The following function can be used to collect the frequencies of each attribute value for two attributes."
   ]
  },
  {
   "cell_type": "code",
   "execution_count": null,
   "metadata": {
    "collapsed": true
   },
   "outputs": [],
   "source": [
    "def attr_freqs(attr1, attr2):\n",
    "    df = shroom_dealer.get_data_frame()\n",
    "\n",
    "    labels1 = shroom_dealer.get_attribute_dictionary()[attr1]\n",
    "    labels2 = shroom_dealer.get_attribute_dictionary()[attr2]\n",
    "\n",
    "    data = []\n",
    "\n",
    "    for a in df[attr1].cat.categories:\n",
    "        column = df[attr2][df[attr1] == a].value_counts()\n",
    "        data.append(column)\n",
    "\n",
    "    observed = pd.concat(data, axis=1)\n",
    "    observed.columns = [labels1[a] for a in df[attr1].cat.categories]\n",
    "\n",
    "    return observed\n",
    "\n",
    "\n",
    "attr_freqs('odor', 'poisonous')"
   ]
  },
  {
   "cell_type": "markdown",
   "metadata": {},
   "source": [
    "Next we can use this function to plot the comparative data."
   ]
  },
  {
   "cell_type": "code",
   "execution_count": null,
   "metadata": {
    "collapsed": true
   },
   "outputs": [],
   "source": [
    "def plot_comparative_data(attr, plot=True, save=False):\n",
    "    data = attr_freqs(attr, 'poisonous')\n",
    "\n",
    "    labels = shroom_dealer.get_attribute_dictionary()[attr]\n",
    "\n",
    "    index = np.arange(o.shape[1])\n",
    "    bar_width = 0.35\n",
    "    opacity=0.4\n",
    "\n",
    "    fig, ax = plt.subplots()\n",
    "\n",
    "    plt.bar(index, data.loc['e',:].values, bar_width, align='center',\n",
    "            color='b', label='edible', alpha=opacity)\n",
    "    plt.bar(index + bar_width, data.loc['p',:].values, bar_width,\n",
    "            align='center', color='r', label='poisonous', alpha=opacity)\n",
    "\n",
    "    plt.xlabel('Attributes')\n",
    "    plt.ylabel('Frequency')\n",
    "    plt.title('Frequency by attribute and edibility ({})'.format(attr))\n",
    "    plt.xticks(index + bar_width / 2, data.columns)\n",
    "\n",
    "    plt.legend()\n",
    "\n",
    "    plt.tight_layout()\n",
    "    plt.show()\n",
    "    plt.close()"
   ]
  },
  {
   "cell_type": "code",
   "execution_count": null,
   "metadata": {
    "collapsed": true
   },
   "outputs": [],
   "source": [
    "plot_comparative_data('odor')"
   ]
  },
  {
   "cell_type": "markdown",
   "metadata": {},
   "source": [
    "From the plot we can see that any mushroom with a foul, spicy and fishy smell as almost certainly poisonous. No smell is almost always edible, but in some rare cases it can be posionous.\n",
    "\n",
    "Let's take a look at spore print color."
   ]
  },
  {
   "cell_type": "code",
   "execution_count": null,
   "metadata": {
    "collapsed": true
   },
   "outputs": [],
   "source": [
    "plot_comparative_data('spore-print-color')"
   ]
  },
  {
   "cell_type": "markdown",
   "metadata": {},
   "source": [
    "We can see that chocolate and white mushrooms are usually poisonous so it is best to avoid those. Black or brown are usually edible, but not always."
   ]
  },
  {
   "cell_type": "markdown",
   "metadata": {},
   "source": [
    "## Determining an attribute's association with edibility\n",
    "\n",
    "To determine association between attributes and edibility we used Pearson's chi-squared test on the frequency of attribute values and then ordered the attributes in descending order of the chi-squared statistic. The chi-squared test works by comparing the observed data to expected data (the null hypothesis which is an even distribution across each row and column) with the following equation,\n",
    "\n",
    "$$\n",
    "    \\chi^2 = \\sum^n_{i=1} \\frac{ (O_i - E_i)^2 }{ E_i }\n",
    "$$\n",
    "\n",
    "where O is the observed data point and E is the expected data point."
   ]
  },
  {
   "cell_type": "markdown",
   "metadata": {},
   "source": [
    "With the following functions we can get a contingency table of the expected and observed values of any two attributes:"
   ]
  },
  {
   "cell_type": "code",
   "execution_count": null,
   "metadata": {
    "collapsed": true
   },
   "outputs": [],
   "source": [
    "def expected_data(observed):\n",
    "    expected = np.zeros(observed.shape)\n",
    "\n",
    "    total = observed.sum().sum()\n",
    "    for j in [0, 1]:\n",
    "        for i, col_total in enumerate(observed.sum()):\n",
    "            row_total = observed.sum(axis=1)[j]\n",
    "            expected[j][i] = row_total*col_total/total\n",
    "\n",
    "    return pd.DataFrame(expected, index=observed.index,\n",
    "                        columns=observed.columns)"
   ]
  },
  {
   "cell_type": "code",
   "execution_count": null,
   "metadata": {
    "collapsed": true
   },
   "outputs": [],
   "source": [
    "o = attr_freqs('odor', 'poisonous')\n",
    "o"
   ]
  },
  {
   "cell_type": "code",
   "execution_count": null,
   "metadata": {
    "collapsed": true
   },
   "outputs": [],
   "source": [
    "expected_data(o)"
   ]
  },
  {
   "cell_type": "markdown",
   "metadata": {},
   "source": [
    "Using these two tables for each attribute we can collect the chi-squared test statistic for each, and then sort them in descending order to rank the attributes by association with being poisonous or edible."
   ]
  },
  {
   "cell_type": "code",
   "execution_count": null,
   "metadata": {
    "collapsed": true
   },
   "outputs": [],
   "source": [
    "cat_names = shroom_dealer.get_attribute_dictionary().keys()\n",
    "\n",
    "chisqrs = []\n",
    "for cat in cat_names:\n",
    "    if cat != 'poisonous':\n",
    "        observed = observed_data(cat, 'poisonous')\n",
    "        expected = expected_data(observed)\n",
    "        chisqr = (((observed-expected)**2)/expected).sum().sum()\n",
    "        chisqrs.append((chisqr, cat))\n",
    "\n",
    "chisqrs = sorted(chisqrs)[::-1]\n",
    "chisqrs = chisqrs[:10]\n",
    "values = [d[0] for d in chisqrs]\n",
    "labels = [d[1].replace(\"-\", \"\\n\") for d in chisqrs]\n",
    "\n",
    "index = np.arange(len(chisqrs))\n",
    "bar_width = .35\n",
    "opacity=0.4\n",
    "\n",
    "plt.title(\"Attributes most associated with edibility\")\n",
    "plt.bar(index, values, bar_width, align='center')\n",
    "plt.xticks(index, labels)\n",
    "plt.ylabel(\"Chi-squared values\")\n",
    "plt.xlabel(\"Attributes\")\n",
    "plt.autoscale()\n",
    "plt.tight_layout()\n",
    "plt.show()"
   ]
  },
  {
   "cell_type": "markdown",
   "metadata": {},
   "source": [
    "As we can see from the plot, odor is the most associated attribute with edibility, followed by spore print color and gill color. These rankings seem to agree heavily with our comparative barcharts.\n",
    "\n",
    "While this use of the chi-squared test statistic may not be the traditional use of finding the p-value and accepting or rejecting the null hypothesis to determine independence, it still provided us with a metric to rank the attributes by their association of edibility."
   ]
  },
  {
   "cell_type": "code",
   "execution_count": null,
   "metadata": {
    "collapsed": true
   },
   "outputs": [],
   "source": []
  },
  {
   "cell_type": "code",
   "execution_count": null,
   "metadata": {
    "collapsed": true
   },
   "outputs": [],
   "source": []
  },
  {
   "cell_type": "code",
   "execution_count": null,
   "metadata": {
    "collapsed": true
   },
   "outputs": [],
   "source": []
  },
  {
   "cell_type": "markdown",
   "metadata": {
    "collapsed": true
   },
   "source": [
    "\n",
    "## Heatmaps\n",
    "One of our first visualizations was to create a heap map that showed the correlation between all possible attributes.  \n",
    "![Heatmap of all Attributes](visualizations/singleton/fullheatmap.png)\n",
    "As you can see, there are way too many attributes to look at this chart alone.  To see some of the more strongly correlated attributes more closely, we made heat maps displaying the correlation between every combibnation of two columns.  Below are some of the more interesting ones.\n",
    "![Heatmap of all Attributes](visualizations/heatmaps/gill-attachment_and_veil-color.png)\n",
    "\n",
    "![Heatmap of all Attributes](visualizations/heatmaps/odor_and_poisonous.png)\n",
    "We found Odor and whether or not the Mushroom was poisonous to be a highly correlated feature.\n",
    "![Heatmap of all Attributes](visualizations/heatmaps/stalk-shape_and_stalk-root.png)\n",
    "We ended up dropping the stalk-root attribute due to 25% of the rows missing a stalk-root value.  We thought the heat map was still interesting enough to include it anyways.\n"
   ]
  },
  {
   "cell_type": "code",
   "execution_count": 1,
   "metadata": {
    "collapsed": false
   },
   "outputs": [
    {
     "data": {
      "text/html": [
       "\n",
       "        <iframe\n",
       "            width=\"1000\"\n",
       "            height=\"0\"\n",
       "            src=\"./visualizations/edge-chart/index.html\"\n",
       "            frameborder=\"0\"\n",
       "            allowfullscreen\n",
       "        ></iframe>\n",
       "        "
      ],
      "text/plain": [
       "<IPython.lib.display.IFrame at 0x106b1f588>"
      ]
     },
     "execution_count": 1,
     "metadata": {},
     "output_type": "execute_result"
    }
   ],
   "source": [
    "from IPython.display import IFrame\n",
    "#Visualization forked from: https://bl.ocks.org/mbostock/1044242\n",
    "IFrame(\"./visualizations/edge-chart/index.html\",width=1000,height=0)"
   ]
  },
  {
   "cell_type": "code",
   "execution_count": null,
   "metadata": {
    "collapsed": true
   },
   "outputs": [],
   "source": []
  },
  {
   "cell_type": "code",
   "execution_count": null,
   "metadata": {
    "collapsed": true
   },
   "outputs": [],
   "source": []
  }
 ],
 "metadata": {
  "anaconda-cloud": {},
  "kernelspec": {
   "display_name": "Python [default]",
   "language": "python",
   "name": "python3"
  },
  "language_info": {
   "codemirror_mode": {
    "name": "ipython",
    "version": 3
   },
   "file_extension": ".py",
   "mimetype": "text/x-python",
   "name": "python",
   "nbconvert_exporter": "python",
   "pygments_lexer": "ipython3",
   "version": "3.5.2"
  }
 },
 "nbformat": 4,
 "nbformat_minor": 2
}
