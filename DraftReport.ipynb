{
 "cells": [
  {
   "cell_type": "markdown",
   "metadata": {},
   "source": [
    "# Lab One: Exploring Table Data\n",
    "___"
   ]
  },
  {
   "cell_type": "markdown",
   "metadata": {},
   "source": [
    "## Business Understanding"
   ]
  },
  {
   "cell_type": "markdown",
   "metadata": {},
   "source": [
    "The data we have selected to study is the analysis of 23 different gilled mushroom species of the *Agaricus* and *Lepiota* Families. Originally, this was collected in order to discover a more efficient and accurate way to tell if a mushroom is edible or poisonous as part of a field guide. This information was found on the UCI, collected The Audubon Society Field Guide to North American Mushrooms (1981), and donated by Jeff Schlimmer.\n",
    " \n",
    "This kind of information is vital to many industries, ranging from tourism to healthcare. Having the knowledge of whether a mushroom is usable or not could save a starving hiker's life or speed up the process of developing medicines involving those materials. Although most poisonous mushrooms only cause minor symptoms such as vomiting and diarrhea, children or animals can develop symptoms such organ damage and, in some cases, death. The field is currently based on a lot of guesswork and tedious work, and even professional mushroomers can misidentify a specimen.\n",
    "\n",
    "Since one of our 22 categorical data attributes is a binary type representing if a mushroom is poisonous or edible, we can use this information to check our accuracy. We plan to correlate each attribute to either type and see if there is a strong relation between any of them that could be used to accurately predict the mushroom's edibleness. \n",
    "___\n"
   ]
  },
  {
   "cell_type": "markdown",
   "metadata": {},
   "source": [
    "## Data Understanding\n"
   ]
  },
  {
   "cell_type": "code",
   "execution_count": 1,
   "metadata": {
    "collapsed": false
   },
   "outputs": [],
   "source": []
  },
  {
   "cell_type": "markdown",
   "metadata": {
    "collapsed": true
   },
   "source": [
    "\n",
    "\n",
    "\n",
    "\n",
    "\n",
    "\n",
    "\n",
    "\n",
    "\n",
    "[15 points] Load the dataset and appropriately define data types. What data type should be used to represent each data attribute? Discuss the attributes collected in the dataset. For datasets with a large number of attributes, only discuss a subset of relevant attributes.  \n",
    "\n",
    "The following are our 22 categorical data attributes, split by data representation:\n",
    "* One Hot Encoding\n",
    "  1. Cap Shape\n",
    "  2. Cap Surface\n",
    "  3. Cap Color\n",
    "  4. Odor\n",
    "  5. Gill Attachment\n",
    "  6. Gill Spacing\n",
    "  7. Gill Color\n",
    "  8. Stalk Root\n",
    "  9. Stalk Surface Above Ring\n",
    "  10. Stalk Surface Below Ring\n",
    "  11. Stalk Color Above Ring\n",
    "  12. Stalk Color Below Ring\n",
    "  13. Veil Color\n",
    "  14. Ring Number\n",
    "  15. Ring Type\n",
    "  16. Spore Print Color\n",
    "  17. Population\n",
    "  18. Habitat\n",
    "* Binary\n",
    "  1. Bruises\n",
    "  2. Gill Size\n",
    "  3. Stalk Shape\n",
    "  4. Veil Type\n",
    "\n",
    "Although some of our attributes can be represented by themselves, such as Population, Habitat, Odor, and Spore Print color, the rest of them become fairly specific, so we created a subset named Physcal Attributes to group them all under. "
   ]
  },
  {
   "cell_type": "markdown",
   "metadata": {},
   "source": [
    "\n",
    "\n",
    "\n",
    "\n"
   ]
  },
  {
   "cell_type": "markdown",
   "metadata": {},
   "source": [
    "[15 points] Verify data quality: Explain any missing values or duplicate data. Are those mistakes? Why do these quality issues exist in the data? How do you deal with these problems? Give justifications for your methods (elimination or imputation).  \n",
    "\n",
    "# Data Quality\n",
    "\n",
    "## Missing Values\n",
    "The data sets has 2480 missing values, all for one attribute, the stalk root. These missing values most likely exist because the stalk root is the only attribute that could not be visible unless the mushroom had been pulled out of the ground.\n",
    "\n",
    "To deal with these missing values we can either eliminate the instances with missing values or eliminate the column altogether since it would be difficult to impute the values with this data set. Eliminating the column can be justified because the attribute is not relevant in the case of determining the edibility of the mushroom without removing it from the ground.\n",
    "\n",
    "## Single Value Column\n",
    "We also noticed that in the veil-type column, only one value was present.  This makes the column completely irrelevant.  This likely means that of the 20 species studied none of them had a veil-type of anything other than partial.\n",
    "\n",
    "## Repeat Data\n",
    "Due to there being 8124 rows and only 23 species of mushrooms, there will inevitably be lot of identical rows.  However, we decided that depending on what the intended use of the data is it could be beneficial to leave in the duplicate rows.\n",
    "\n",
    "When implementing our function to read the DataFrame from a file, we allowed the option to remove duplicate values in order to easily analyze the dataset with and without duplicates. \n",
    "\n",
    "Below is a short piece of code showing what percentage of the data is unique."
   ]
  },
  {
   "cell_type": "code",
   "execution_count": 10,
   "metadata": {
    "collapsed": false
   },
   "outputs": [
    {
     "data": {
      "text/plain": [
       "8124"
      ]
     },
     "execution_count": 10,
     "metadata": {},
     "output_type": "execute_result"
    }
   ],
   "source": [
    "from preprocessing.shroom_dealer import get_data_frame\n",
    "\n",
    "df = get_data_frame()\n",
    "total_rows = len(df)\n",
    "\n",
    "df.drop_duplicates(inplace=True)\n",
    "no_dups = len(df)"
   ]
  },
  {
   "cell_type": "markdown",
   "metadata": {},
   "source": [
    "# Smell\n",
    "We noticed that one of the most highly correlated features was odor."
   ]
  },
  {
   "cell_type": "code",
   "execution_count": 2,
   "metadata": {
    "collapsed": false
   },
   "outputs": [
    {
     "name": "stdout",
     "output_type": "stream",
     "text": [
      "{'none': 0.034013605442176874, 'anise': 0.0, 'almond': 0.0, 'fishy': 1.0, 'spicy': 1.0, 'musty': 1.0, 'pungent': 1.0, 'foul': 1.0, 'creosote': 1.0}\n"
     ]
    }
   ],
   "source": [
    "from analysis import histogram_analysis\n",
    "counts, poison_counts = histogram_analysis.get_hist_data()\n",
    "\n",
    "tf_tpf = {}\n",
    "for val in counts:\n",
    "    tf_tpf[val] = dict([(x,poison_counts[val][x]/counts[val][x]) for x in counts[val] if counts[val][x] != 0])\n",
    "\n",
    "print(tf_tpf[\"odor\"])"
   ]
  },
  {
   "cell_type": "markdown",
   "metadata": {
    "collapsed": true
   },
   "source": [
    "As we can see, the correlations between smell and whether or not a mushroom is poisonous is 100%.  The only time that there is a question of whether or not a mushroom is poisonous is when the mushroom lacks a smell."
   ]
  },
  {
   "cell_type": "markdown",
   "metadata": {
    "collapsed": false
   },
   "source": [
    "\n"
   ]
  },
  {
   "cell_type": "code",
   "execution_count": null,
   "metadata": {
    "collapsed": true
   },
   "outputs": [],
   "source": []
  },
  {
   "cell_type": "code",
   "execution_count": null,
   "metadata": {
    "collapsed": true
   },
   "outputs": [],
   "source": []
  },
  {
   "cell_type": "code",
   "execution_count": null,
   "metadata": {
    "collapsed": true
   },
   "outputs": [],
   "source": []
  },
  {
   "cell_type": "code",
   "execution_count": null,
   "metadata": {
    "collapsed": true
   },
   "outputs": [],
   "source": []
  },
  {
   "cell_type": "markdown",
   "metadata": {
    "collapsed": true
   },
   "source": [
    "# Visualizations\n",
    "## Heatmaps\n",
    "One of our first visualizations was to create a heap map that showed the correlation between all possible attributes.  \n",
    "![Heatmap of all Attributes](visualizations/singleton/fullheatmap.png)\n",
    "As you can see, there are way too many attributes to look at this chart alone.  To see some of the more strongly correlated attributes more closely, we made heat maps displaying the correlation between every combibnation of two columns.  Below are some of the more interesting ones.\n",
    "![Heatmap of all Attributes](visualizations/heatmaps/gill-attachment_and_veil-color.png)\n",
    "\n",
    "![Heatmap of all Attributes](visualizations/heatmaps/odor_and_poisonous.png)\n",
    "We found Odor and whether or not the Mushroom was poisonous to be a highly correlated feature.\n",
    "![Heatmap of all Attributes](visualizations/heatmaps/stalk-shape_and_stalk-root.png)\n",
    "We ended up dropping the stalk-root attribute due to 25% of the rows missing a stalk-root value.  We thought the heat map was still interesting enough to include it anyways.\n"
   ]
  },
  {
   "cell_type": "code",
   "execution_count": null,
   "metadata": {
    "collapsed": true
   },
   "outputs": [],
   "source": [
    "  "
   ]
  }
 ],
 "metadata": {
  "anaconda-cloud": {},
  "kernelspec": {
   "display_name": "Python [default]",
   "language": "python",
   "name": "python3"
  },
  "language_info": {
   "codemirror_mode": {
    "name": "ipython",
    "version": 3
   },
   "file_extension": ".py",
   "mimetype": "text/x-python",
   "name": "python",
   "nbconvert_exporter": "python",
   "pygments_lexer": "ipython3",
   "version": "3.5.2"
  }
 },
 "nbformat": 4,
 "nbformat_minor": 2
}
