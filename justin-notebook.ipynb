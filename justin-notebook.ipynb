{
 "cells": [
  {
   "cell_type": "code",
   "execution_count": 4,
   "metadata": {
    "collapsed": true
   },
   "outputs": [],
   "source": [
    "import sys\n",
    "import os\n",
    "import itertools\n",
    "import numpy as np\n",
    "import matplotlib.pyplot as plt\n",
    "import seaborn as sns\n",
    "import pandas as pd\n",
    "import scipy.stats as stats\n",
    "\n",
    "sys.path.append(os.path.abspath('..'))\n",
    "from preprocessing import shroom_dealer"
   ]
  },
  {
   "cell_type": "markdown",
   "metadata": {},
   "source": [
    "To determine association between attributes and edibility we used Pearson's chi-squared test on the frequency of attribute values and then ordered the attributes in descending order of the chi-squared statistic. The chi-squared test works by comparing the observed data to expected data (the null hypothesis which is an even distribution across each row and column) with the following equation,\n",
    "\n",
    "$$\n",
    "    \\chi^2 = \\sum^n_{i=1} \\frac{ (O_i - E_i)^2 }{ E_i }\n",
    "$$\n",
    "\n",
    "where O is the observed data point and E is the expected data point.\n",
    "\n",
    "\n"
   ]
  },
  {
   "cell_type": "markdown",
   "metadata": {},
   "source": [
    "With the following functions we can get a contingency table of the expected and observed values of any two attributes:"
   ]
  },
  {
   "cell_type": "code",
   "execution_count": 10,
   "metadata": {
    "collapsed": true
   },
   "outputs": [],
   "source": [
    "def observed_data(attr1, attr2):\n",
    "    df = shroom_dealer.get_data_frame()\n",
    "\n",
    "    labels1 = shroom_dealer.get_attribute_dictionary()[attr1]\n",
    "    labels2 = shroom_dealer.get_attribute_dictionary()[attr2]\n",
    "\n",
    "    data = []\n",
    "\n",
    "    for a in df[attr1].cat.categories:\n",
    "        column = df[attr2][df[attr1] == a].value_counts()\n",
    "        data.append(column)\n",
    "\n",
    "    observed = pd.concat(data, axis=1)\n",
    "    observed.columns = [labels1[a] for a in df[attr1].cat.categories]\n",
    "\n",
    "    return observed\n",
    "\n",
    "\n",
    "def expected_data(observed):\n",
    "    expected = np.zeros(observed.shape)\n",
    "\n",
    "    total = observed.sum().sum()\n",
    "    for j in [0, 1]:\n",
    "        for i, col_total in enumerate(observed.sum()):\n",
    "            row_total = observed.sum(axis=1)[j]\n",
    "            expected[j][i] = row_total*col_total/total\n",
    "\n",
    "    return pd.DataFrame(expected, index=observed.index,\n",
    "                        columns=observed.columns)"
   ]
  },
  {
   "cell_type": "code",
   "execution_count": 11,
   "metadata": {
    "collapsed": false
   },
   "outputs": [
    {
     "data": {
      "text/html": [
       "<div>\n",
       "<table border=\"1\" class=\"dataframe\">\n",
       "  <thead>\n",
       "    <tr style=\"text-align: right;\">\n",
       "      <th></th>\n",
       "      <th>almond</th>\n",
       "      <th>creosote</th>\n",
       "      <th>foul</th>\n",
       "      <th>anise</th>\n",
       "      <th>musty</th>\n",
       "      <th>none</th>\n",
       "      <th>pungent</th>\n",
       "      <th>spicy</th>\n",
       "      <th>fishy</th>\n",
       "    </tr>\n",
       "  </thead>\n",
       "  <tbody>\n",
       "    <tr>\n",
       "      <th>e</th>\n",
       "      <td>400</td>\n",
       "      <td>0</td>\n",
       "      <td>0</td>\n",
       "      <td>400</td>\n",
       "      <td>0</td>\n",
       "      <td>3408</td>\n",
       "      <td>0</td>\n",
       "      <td>0</td>\n",
       "      <td>0</td>\n",
       "    </tr>\n",
       "    <tr>\n",
       "      <th>p</th>\n",
       "      <td>0</td>\n",
       "      <td>192</td>\n",
       "      <td>2160</td>\n",
       "      <td>0</td>\n",
       "      <td>36</td>\n",
       "      <td>120</td>\n",
       "      <td>256</td>\n",
       "      <td>576</td>\n",
       "      <td>576</td>\n",
       "    </tr>\n",
       "  </tbody>\n",
       "</table>\n",
       "</div>"
      ],
      "text/plain": [
       "   almond  creosote  foul  anise  musty  none  pungent  spicy  fishy\n",
       "e     400         0     0    400      0  3408        0      0      0\n",
       "p       0       192  2160      0     36   120      256    576    576"
      ]
     },
     "execution_count": 11,
     "metadata": {},
     "output_type": "execute_result"
    }
   ],
   "source": [
    "o = observed_data('odor', 'poisonous')\n",
    "o"
   ]
  },
  {
   "cell_type": "code",
   "execution_count": 12,
   "metadata": {
    "collapsed": false
   },
   "outputs": [
    {
     "data": {
      "text/html": [
       "<div>\n",
       "<table border=\"1\" class=\"dataframe\">\n",
       "  <thead>\n",
       "    <tr style=\"text-align: right;\">\n",
       "      <th></th>\n",
       "      <th>almond</th>\n",
       "      <th>creosote</th>\n",
       "      <th>foul</th>\n",
       "      <th>anise</th>\n",
       "      <th>musty</th>\n",
       "      <th>none</th>\n",
       "      <th>pungent</th>\n",
       "      <th>spicy</th>\n",
       "      <th>fishy</th>\n",
       "    </tr>\n",
       "  </thead>\n",
       "  <tbody>\n",
       "    <tr>\n",
       "      <th>e</th>\n",
       "      <td>207.188577</td>\n",
       "      <td>99.450517</td>\n",
       "      <td>1118.818316</td>\n",
       "      <td>207.188577</td>\n",
       "      <td>18.646972</td>\n",
       "      <td>1827.40325</td>\n",
       "      <td>132.600689</td>\n",
       "      <td>298.351551</td>\n",
       "      <td>298.351551</td>\n",
       "    </tr>\n",
       "    <tr>\n",
       "      <th>p</th>\n",
       "      <td>192.811423</td>\n",
       "      <td>92.549483</td>\n",
       "      <td>1041.181684</td>\n",
       "      <td>192.811423</td>\n",
       "      <td>17.353028</td>\n",
       "      <td>1700.59675</td>\n",
       "      <td>123.399311</td>\n",
       "      <td>277.648449</td>\n",
       "      <td>277.648449</td>\n",
       "    </tr>\n",
       "  </tbody>\n",
       "</table>\n",
       "</div>"
      ],
      "text/plain": [
       "       almond   creosote         foul       anise      musty        none  \\\n",
       "e  207.188577  99.450517  1118.818316  207.188577  18.646972  1827.40325   \n",
       "p  192.811423  92.549483  1041.181684  192.811423  17.353028  1700.59675   \n",
       "\n",
       "      pungent       spicy       fishy  \n",
       "e  132.600689  298.351551  298.351551  \n",
       "p  123.399311  277.648449  277.648449  "
      ]
     },
     "execution_count": 12,
     "metadata": {},
     "output_type": "execute_result"
    }
   ],
   "source": [
    "expected_data(o)"
   ]
  },
  {
   "cell_type": "markdown",
   "metadata": {},
   "source": [
    "Using these two tables for each attribute we can collect the chi-squared test statistic for each, and then sort them in descending order to rank the attributes by association with being poisonous or edible."
   ]
  },
  {
   "cell_type": "code",
   "execution_count": 14,
   "metadata": {
    "collapsed": false
   },
   "outputs": [
    {
     "data": {
      "image/png": "[encoded data removed]",
      "text/plain": [
       "<matplotlib.figure.Figure at 0x7f2fc135d7b8>"
      ]
     },
     "metadata": {},
     "output_type": "display_data"
    }
   ],
   "source": [
    "cat_names = shroom_dealer.get_attribute_dictionary().keys()\n",
    "\n",
    "chisqrs = []\n",
    "for cat in cat_names:\n",
    "    if cat != 'poisonous':\n",
    "        observed = observed_data(cat, 'poisonous')\n",
    "        expected = expected_data(observed)\n",
    "        chisqr = (((observed-expected)**2)/expected).sum().sum()\n",
    "        chisqrs.append((chisqr, cat))\n",
    "\n",
    "chisqrs = sorted(chisqrs)[::-1]\n",
    "chisqrs = chisqrs[:10]\n",
    "values = [d[0] for d in chisqrs]\n",
    "labels = [d[1].replace(\"-\", \"\\n\") for d in chisqrs]\n",
    "\n",
    "index = np.arange(len(chisqrs))\n",
    "bar_width = .35\n",
    "opacity=0.4\n",
    "\n",
    "plt.title(\"Attributes most associated with edibility\")\n",
    "plt.bar(index, values, bar_width, align='center')\n",
    "plt.xticks(index, labels)\n",
    "plt.ylabel(\"Chi-squared values\")\n",
    "plt.xlabel(\"Attributes\")\n",
    "plt.autoscale()\n",
    "plt.tight_layout()\n",
    "plt.show()"
   ]
  },
  {
   "cell_type": "markdown",
   "metadata": {},
   "source": [
    "As we can see from the plot, odor is the most associated attribute with edibility, followed by spore print color and gill color. These rankings seem to agree heavily with our comparative barcharts.\n",
    "\n",
    "While this use of the chi-squared test statistic may not be the traditional use of finding the p-value and accepting or rejecting the null hypothesis to determine independence, it still provided us with a metric to rank the attributes by their association of edibility."
   ]
  },
  {
   "cell_type": "code",
   "execution_count": null,
   "metadata": {
    "collapsed": true
   },
   "outputs": [],
   "source": []
  }
 ],
 "metadata": {
  "kernelspec": {
   "display_name": "Python 3",
   "language": "python",
   "name": "python3"
  },
  "language_info": {
   "codemirror_mode": {
    "name": "ipython",
    "version": 3
   },
   "file_extension": ".py",
   "mimetype": "text/x-python",
   "name": "python",
   "nbconvert_exporter": "python",
   "pygments_lexer": "ipython3",
   "version": "3.6.0"
  }
 },
 "nbformat": 4,
 "nbformat_minor": 2
}
